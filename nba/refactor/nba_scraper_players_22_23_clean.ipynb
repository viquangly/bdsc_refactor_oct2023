{
 "cells": [
  {
   "cell_type": "markdown",
   "metadata": {},
   "source": [
    "This is a code review of Josh Cohen's original NBA Analysis:\n",
    "https://github.com/joshc3453/NBA_Analysis/blob/main/nba_scraper_players_22_23_clean.ipynb\n",
    "\n",
    "This is for a Buffalo Data Science Community talk about Bad Data Science Coding Practices."
   ]
  },
  {
   "cell_type": "markdown",
   "metadata": {
    "id": "w86PB9Xi2nBm"
   },
   "source": [
    "# NBA 22-23 Analysis & Classification"
   ]
  },
  {
   "cell_type": "code",
   "execution_count": null,
   "metadata": {
    "id": "YZ8bsGMud1tN"
   },
   "outputs": [],
   "source": [
    "from urllib.request import urlopen\n",
    "from bs4 import BeautifulSoup\n",
    "import pandas as pd\n",
    "\n",
    "import matplotlib.pyplot as plt\n",
    "import seaborn as sns\n",
    "import numpy as np\n",
    "\n",
    "pd.set_option('display.max_columns', None)"
   ]
  },
  {
   "cell_type": "code",
   "execution_count": null,
   "metadata": {},
   "outputs": [],
   "source": [
    "# @refactored\n",
    "# Extract functionality that is commonly used into its own .py file\n",
    "import warnings\n",
    "warnings.filterwarnings('ignore')\n",
    "\n",
    "import nba_func as nf"
   ]
  },
  {
   "cell_type": "markdown",
   "metadata": {
    "id": "BgpYR3fOfBJr"
   },
   "source": [
    "# Web Scraping & Merging Datasets"
   ]
  },
  {
   "cell_type": "code",
   "execution_count": null,
   "metadata": {
    "id": "bQX02KTYd_3I"
   },
   "outputs": [],
   "source": [
    "url = 'https://www.basketball-reference.com/leagues/NBA_2023_totals.html'\n",
    "html = urlopen(url)\n",
    "soup = BeautifulSoup(html, features='lxml')"
   ]
  },
  {
   "cell_type": "code",
   "execution_count": null,
   "metadata": {
    "id": "Xaa9TQVOeKTT"
   },
   "outputs": [],
   "source": [
    "headers = [th.getText() for th in soup.findAll('tr')[0].findAll('th')]\n",
    "rows = soup.findAll('tr')[1:]\n",
    "rows_data = [[td.getText() for td in rows[i].findAll('td')]\n",
    "                     for i in range(len(rows))]\n",
    "headers = headers[1:]"
   ]
  },
  {
   "cell_type": "code",
   "execution_count": null,
   "metadata": {
    "id": "d8V1nffBecmr"
   },
   "outputs": [],
   "source": [
    "nba = pd.DataFrame(rows_data, columns = headers)\n",
    "nba = nba.mask(nba.eq('None')).dropna()\n",
    "nba = nba.apply(pd.to_numeric, errors='ignore')"
   ]
  },
  {
   "cell_type": "code",
   "execution_count": null,
   "metadata": {
    "colab": {
     "base_uri": "https://localhost:8080/"
    },
    "id": "xD-zJzrteguJ",
    "outputId": "4e482f57-0a1d-4796-c21f-302b3d78b351"
   },
   "outputs": [],
   "source": [
    "# @badcode\n",
    "# Mid-code import\n",
    "# This may cause a reproducibility issue - people may not be able to run your code because they won't\n",
    "# have access to your Google Drive.  Furthermore, there is no insight on how NBA_22_23.xlsx was generated.\n",
    "\n",
    "# @badcode\n",
    "# Bad variable name df2 does not tell me what the data actually is\n",
    "\n",
    "from google.colab import drive\n",
    "drive.mount('/content/gdrive')\n",
    "\n",
    "mypath='/content/gdrive/MyDrive/'\n",
    "\n",
    "fn = \"NBA_22_23.xlsx\"\n",
    "df2 = pd.read_excel(mypath+fn)"
   ]
  },
  {
   "cell_type": "code",
   "execution_count": null,
   "metadata": {
    "id": "zH3eoWsQeksy"
   },
   "outputs": [],
   "source": [
    "nba = nba.merge(df2, how='left', left_on='Player', right_on='player')"
   ]
  },
  {
   "cell_type": "code",
   "execution_count": null,
   "metadata": {
    "id": "XYQ1aft03lKW"
   },
   "outputs": [],
   "source": [
    "# Dropping duplicate column 'player' and 'pos'\n",
    "nba.drop(['player', 'pos'], axis=1, inplace=True)"
   ]
  },
  {
   "cell_type": "markdown",
   "metadata": {
    "id": "lefIDj4ke9T1"
   },
   "source": [
    "# Feature Engineering"
   ]
  },
  {
   "cell_type": "code",
   "execution_count": null,
   "metadata": {
    "id": "Mpfz7tg2ey2e"
   },
   "outputs": [],
   "source": [
    "# @badcode\n",
    "# Inconsistent naming convention - the 'PG' in PPG & MPG is uppercase, while it is lower case for 3Ppg, TRBpg, ASTpg\n",
    "\n",
    "# @badcode\n",
    "# Magic numbers - 0.44 in 0.44*nba['FTA']; 2 in 2*nba['TSA']\n",
    "\n",
    "# @badcode\n",
    "# DRY violation a lot of division by nba['G']\n",
    "\n",
    "nba['PPG'] = nba['PTS']/nba['G']\n",
    "nba['3Ppg'] = nba['3P']/nba['G']\n",
    "nba['TRBpg'] = nba['TRB']/nba['G']\n",
    "nba['ASTpg'] = nba['AST']/nba['G']\n",
    "nba['TSA'] = nba['FGA']+(0.44*nba['FTA'])\n",
    "nba['TS%'] = nba['PTS']/(2*nba['TSA'])\n",
    "nba['MPG'] = nba['MP']/nba['G']"
   ]
  },
  {
   "cell_type": "code",
   "execution_count": null,
   "metadata": {},
   "outputs": [],
   "source": [
    "# @refactored - Option 1\n",
    "for col in ('PTS', '3P', 'TRB', 'AST', 'MP'):\n",
    "    nba[f'{col}pg'] = nba[col] / nba['G']\n",
    "    \n",
    "nba['TSA'] = nba['FGA']+(0.44*nba['FTA'])\n",
    "nba['TS%'] = nba['PTS']/(2*nba['TSA'])"
   ]
  },
  {
   "cell_type": "code",
   "execution_count": null,
   "metadata": {},
   "outputs": [],
   "source": [
    "# @refactored - Option 2\n",
    "game_cols = ['PTS', '3P', 'TRB', 'AST', 'MP']\n",
    "new_game_cols = [f'{col}pg' for col in game_cols]\n",
    "nba[new_game_cols] = nba[game_features].div(nba['G'], axis=0)"
   ]
  },
  {
   "cell_type": "code",
   "execution_count": null,
   "metadata": {
    "id": "y1550xZH35A6"
   },
   "outputs": [],
   "source": [
    "# @badcode\n",
    "# Useless comment - Adjusting decimal displays\n",
    "\n",
    "# @badcode\n",
    "# DRY violation\n",
    "\n",
    "# @badcode\n",
    "# Redundant code\n",
    "# nba['number'].round(decimals=0) is redundant because it is converted to int in the next cell\n",
    "\n",
    "# Adjusting decimal displays\n",
    "nba['PPG'] = nba['PPG'].round(decimals=2)\n",
    "nba['3Ppg'] = nba['3Ppg'].round(decimals=3)\n",
    "nba['TRBpg'] = nba['TRBpg'].round(decimals=2)\n",
    "nba['ASTpg'] = nba['ASTpg'].round(decimals=2)\n",
    "nba['number'] = nba['number'].round(decimals=0)\n",
    "nba['TS%'] = nba['TS%'].round(decimals=3)\n",
    "nba['MPG'] = nba['MPG'].round(decimals=2)"
   ]
  },
  {
   "cell_type": "code",
   "execution_count": null,
   "metadata": {},
   "outputs": [],
   "source": [
    "# @refactored\n",
    "cols_to_round = dict.fromkeys(('PPG', 'TRBpg', 'ASTpg', 'MPG'), 2)\n",
    "cols_to_round.update({'3Ppg': 3, 'TS%': 3})\n",
    "nba = nba.round(cols_to_round)"
   ]
  },
  {
   "cell_type": "code",
   "execution_count": null,
   "metadata": {
    "id": "FQjduP8R46Oj"
   },
   "outputs": [],
   "source": [
    "# @badcode\n",
    "# Useless comment - Converting dtypes\n",
    "\n",
    "# @badcode\n",
    "# Confounding / similar naming\n",
    "# height_inches vs height_in\n",
    "\n",
    "# @badcode\n",
    "# Inconsistent naming\n",
    "# the unit of measurement is spelled out in height_feet, height_inches, but abbreviation is used for height_in, weight_lbs\n",
    "\n",
    "# @badcode\n",
    "# DRY Violation\n",
    "\n",
    "# Converting dtypes\n",
    "nba['number'] = nba['number'].astype('Int64')\n",
    "nba['height_feet'] = nba['height_feet'].astype('Int64')\n",
    "nba['height_inches'] = nba['height_inches'].astype('Int64')\n",
    "nba['height_in'] = nba['height_in'].astype('Int64')\n",
    "nba['weight_lbs'] = nba['weight_lbs'].astype('Int64')\n",
    "nba['birth_day'] = nba['birth_day'].astype('Int64')\n",
    "nba['birth_year'] = nba['birth_year'].astype('Int64')"
   ]
  },
  {
   "cell_type": "code",
   "execution_count": null,
   "metadata": {},
   "outputs": [],
   "source": [
    "# @refactored\n",
    "int_cols = ['number', 'height_feet', 'height_inches', 'height_in', 'weight_lbs', 'birth_day', 'birth_year']\n",
    "nba[int_cols] = nba[int_cols].astype('Int64')"
   ]
  },
  {
   "cell_type": "code",
   "execution_count": null,
   "metadata": {
    "id": "3CEUIOSN5IZ4"
   },
   "outputs": [],
   "source": [
    "# @badcode\n",
    "# Useless comment\n",
    "\n",
    "# Renaming similarly-named column\n",
    "nba.rename(columns={\"height_in\": \"total_height_in\"}, inplace=True)"
   ]
  },
  {
   "cell_type": "code",
   "execution_count": null,
   "metadata": {
    "colab": {
     "base_uri": "https://localhost:8080/",
     "height": 357
    },
    "id": "TMgzQzfo483D",
    "outputId": "39b0a262-36be-47f5-86cb-a4f996ab18bb"
   },
   "outputs": [],
   "source": [
    "nba.head()"
   ]
  },
  {
   "cell_type": "markdown",
   "metadata": {
    "id": "IdpT8VjqfVzR"
   },
   "source": [
    "# Data Analysis"
   ]
  },
  {
   "cell_type": "markdown",
   "metadata": {
    "id": "SwdC5QdCs4KD"
   },
   "source": [
    "## Team Points Per Game"
   ]
  },
  {
   "cell_type": "markdown",
   "metadata": {
    "id": "iRXQYYqXs9md"
   },
   "source": [
    "In this analysis, I will extract team points per game using only individual player data. This will be accomplished by grouping the dataframe by team and finding the maximum amount of games played by a player for that team. This should give us the total games played by that team. Note: This assumes that at least one player from each team has played in every game so far this season.\n",
    "I then divide the team's total points by the games played to get the team's points per game."
   ]
  },
  {
   "cell_type": "code",
   "execution_count": null,
   "metadata": {
    "colab": {
     "base_uri": "https://localhost:8080/",
     "height": 0
    },
    "id": "yjvtHEzbs6CW",
    "outputId": "0baca011-dd1c-4f62-f2cf-bc330c825db9"
   },
   "outputs": [],
   "source": [
    "# @badcode\n",
    "# Useless comments\n",
    "\n",
    "# @badcode\n",
    "# We only want to calculate Team Points Per Game\n",
    "# However, we are creating unneccessary dataframes using nba.groupby(by='Tm').max() and nba.groupby(by='Tm').sum().\n",
    "# In the 2 groupby examples, we are calculating the max and sum for all numeric columns.  \n",
    "# This is overkill for just calculating Team Points Per Game\n",
    "\n",
    "# Finding the max games played by a player on each team\n",
    "team_max_df = nba.groupby(by='Tm').max()\n",
    "# Finding the total points scored by each team\n",
    "team_sum_df = nba.groupby(by='Tm').sum()\n",
    "# Creating a points per game feature for the dataframe\n",
    "team_sum_df['team_ppg'] = team_sum_df['PTS']/team_max_df['G'].values\n",
    "# Formatting\n",
    "team_sum_df['team_ppg'] = team_sum_df['team_ppg'].round(decimals=1)\n",
    "team_sum_df.reset_index(inplace=True)\n",
    "# Viewing teams and points per game, sorted\n",
    "team_sum_df = team_sum_df[['Tm', 'team_ppg']].sort_values(by='team_ppg', ascending=False)\n",
    "team_sum_df"
   ]
  },
  {
   "cell_type": "code",
   "execution_count": null,
   "metadata": {},
   "outputs": [],
   "source": [
    "# @badcode\n",
    "# Bad assumption\n",
    "# We assume 'Note: This assumes that at least one player from each team has played in every game so far this season.'\n",
    "# Because of this assumption, in the code above, we use team_max_df['G'].values in the denominator to calculate Team Points Per Game\n",
    "\n",
    "# In an NBA season, all teams should play the same amount of games.  However, when we check the code for the denominator,\n",
    "# our assumption is incorrect.\n",
    "nba.groupby('Tm')['G'].max()"
   ]
  },
  {
   "cell_type": "code",
   "execution_count": null,
   "metadata": {},
   "outputs": [],
   "source": [
    "# @refactored\n",
    "n_games_per_team_per_season = 82\n",
    "team_ppg = (nba.groupby(by='Tm')['PTS'].sum() / n_games_per_team_per_season).sort_values(ascending=False).round(1)\n",
    "team_ppg\n",
    "\n",
    "# TOT stands for Two Other Teams - meaning a player played for two or more teams that year"
   ]
  },
  {
   "cell_type": "markdown",
   "metadata": {
    "id": "1NfP0Gft_wTu"
   },
   "source": [
    "## Top 5 Player Statistics"
   ]
  },
  {
   "cell_type": "markdown",
   "metadata": {
    "id": "ChWd9VTkA9L5"
   },
   "source": [
    "Top 5 player statistics uses a minimum game threshold of over 13 games. At this point in the season, 13 seems to capture active players while weeding out less active players. We don't want players with only a few games played to skew or inflate our results. Additionally, the results below are exactly inline with ESPN's statistics."
   ]
  },
  {
   "cell_type": "markdown",
   "metadata": {
    "id": "3loIsPgSADZ4"
   },
   "source": [
    "### Points Per Game"
   ]
  },
  {
   "cell_type": "code",
   "execution_count": null,
   "metadata": {
    "colab": {
     "base_uri": "https://localhost:8080/",
     "height": 206
    },
    "id": "g_Ork5ZB_-fA",
    "outputId": "e32f7f90-a33d-4ca1-af3f-a3b2ab22af3c"
   },
   "outputs": [],
   "source": [
    "# @badcode\n",
    "# DRY violation\n",
    "# The same code pattern is repeated throughout\n",
    "\n",
    "# @badcode\n",
    "# DRY violation\n",
    "# top_5_<<stat_name>> is used as the variable name.  What happens if you are asked to get the top 3 or top 10?\n",
    "# You would have to change it in the code, as well as the variable name\n",
    "\n",
    "# @badcode\n",
    "# DRY violation\n",
    "# 17 and 13 are repeated multiple times - they should be assigned to a variable\n",
    "\n",
    "# @badcode\n",
    "# Inconsistent code / magic number - In the text, we mention that we use 13 as a minimum game threshold.\n",
    "# However, we see that 17 is also used.\n",
    "\n",
    "top_5_ppg = nba[['Player', 'G', 'Tm', 'PPG']]\n",
    "top_5_ppg[top_5_ppg['G']>17].sort_values('PPG', ascending=False)[:5]"
   ]
  },
  {
   "cell_type": "markdown",
   "metadata": {
    "id": "kSRz55w5Af_q"
   },
   "source": [
    "### Assists"
   ]
  },
  {
   "cell_type": "code",
   "execution_count": null,
   "metadata": {
    "colab": {
     "base_uri": "https://localhost:8080/",
     "height": 0
    },
    "id": "yFFuKoHfAl3c",
    "outputId": "b5390e19-89a3-4dc9-b4bf-8559b16bc32f"
   },
   "outputs": [],
   "source": [
    "top_5_ast = nba[['Player', 'G', 'Tm', 'ASTpg']]\n",
    "top_5_ast[top_5_ast['G']>17].sort_values('ASTpg', ascending=False)[:5]"
   ]
  },
  {
   "cell_type": "markdown",
   "metadata": {
    "id": "OxFU5JLjAqFe"
   },
   "source": [
    "### 3 Pointers Made"
   ]
  },
  {
   "cell_type": "code",
   "execution_count": null,
   "metadata": {
    "colab": {
     "base_uri": "https://localhost:8080/",
     "height": 0
    },
    "id": "hDo6ZfUMAuBj",
    "outputId": "3b84a1e2-58ef-42cc-807e-c7aa68129924"
   },
   "outputs": [],
   "source": [
    "top_5_3p = nba[['Player', 'G', 'Tm', '3Ppg']]\n",
    "top_5_3p[top_5_3p['G']>13].sort_values('3Ppg', ascending=False)[:5]"
   ]
  },
  {
   "cell_type": "markdown",
   "metadata": {
    "id": "FCgCjpmbAyNJ"
   },
   "source": [
    "### Rebounds"
   ]
  },
  {
   "cell_type": "code",
   "execution_count": null,
   "metadata": {
    "colab": {
     "base_uri": "https://localhost:8080/",
     "height": 0
    },
    "id": "lLVexW8eA0L1",
    "outputId": "bb53c6ca-26ef-4d12-f957-9d67b4ab7a92"
   },
   "outputs": [],
   "source": [
    "top_5_reb = nba[['Player', 'G', 'Tm', 'TRBpg']]\n",
    "top_5_reb[top_5_reb['G']>13].sort_values('TRBpg', ascending=False)[:5]"
   ]
  },
  {
   "cell_type": "markdown",
   "metadata": {},
   "source": [
    "### Refactored Top Stats"
   ]
  },
  {
   "cell_type": "code",
   "execution_count": null,
   "metadata": {},
   "outputs": [],
   "source": [
    "# @badcode\n",
    "# Logic Issues - There are players who have played for multiple teams during the same season\n",
    "# However, this is not taken into account when we look at the top players\n",
    "nba.loc[nba['Player'].duplicated(), ['Player', 'G']]"
   ]
  },
  {
   "cell_type": "code",
   "execution_count": null,
   "metadata": {},
   "outputs": [],
   "source": [
    "# For example, For this particular player, because we didn't group by Player before using the G > 13 filter,\n",
    "# he is only listed as having score 26 points in the season, when in reality, he scored 52 points\n",
    "nba.loc[nba['Player']=='Ryan Arcidiacono', ['G', 'PTS']]"
   ]
  },
  {
   "cell_type": "code",
   "execution_count": null,
   "metadata": {},
   "outputs": [],
   "source": [
    "# @refactored code\n",
    "min_games_played_threshold = 13\n",
    "top_n = 5\n",
    "eligible_candidates = nba[nba['G'] > min_games_played_threshold]\n",
    "\n",
    "top_players = {\n",
    "    stat: nf.sort_top_players_by_stat(eligible_candidates[['Player', 'G', 'Tm', stat]], stat, top_n)\n",
    "    for stat in ('PPG', 'ASTpg', '3Ppg', 'TRBpg')\n",
    "}"
   ]
  },
  {
   "cell_type": "code",
   "execution_count": null,
   "metadata": {},
   "outputs": [],
   "source": [
    "top_players['PPG']"
   ]
  },
  {
   "cell_type": "code",
   "execution_count": null,
   "metadata": {},
   "outputs": [],
   "source": [
    "top_players['ASTpg']"
   ]
  },
  {
   "cell_type": "markdown",
   "metadata": {
    "id": "QCl6k6iC_8QU"
   },
   "source": [
    "## Free Throw Analysis"
   ]
  },
  {
   "cell_type": "markdown",
   "metadata": {
    "id": "IyAm8i1tOLd0"
   },
   "source": [
    "I first create a new dataframe, \"ft_df\" to analyze player free throws. Next, I create a new feature called \"points_forgone\" which is a measure of free throws made minus free throws attempted. Since every free throw counts for one point each, one missed free throw equals one missed point, or a point forgone.\n",
    "> All Games qualifier is on pace for at least 125 made free throws"
   ]
  },
  {
   "cell_type": "code",
   "execution_count": null,
   "metadata": {
    "cellView": "code",
    "colab": {
     "base_uri": "https://localhost:8080/"
    },
    "id": "mInq5bdMfXED",
    "outputId": "a1eb9f94-b77f-4459-92c3-e51e51fe5172"
   },
   "outputs": [],
   "source": [
    "# @badcode\n",
    "# Inconsistent code - for the 'PPG', 'ASTpg', '3Ppg', 'TRBpg' stats, we look at players who have played at at least 13 \n",
    "# games.  However, for free throws, we don't include that filter.  There should be a comment explaining why the filter\n",
    "# is not applied\n",
    "\n",
    "ft_df = nba[['Player', 'FT', 'FTA', 'FT%']]\n",
    "ft_df['points_forgone'] = ft_df['FTA']-ft_df['FT']"
   ]
  },
  {
   "cell_type": "code",
   "execution_count": null,
   "metadata": {
    "colab": {
     "base_uri": "https://localhost:8080/",
     "height": 206
    },
    "id": "CQEa-ZfPfcmF",
    "outputId": "34fb16b5-53d2-4349-b77c-b3e2f72f5c9b"
   },
   "outputs": [],
   "source": [
    "# @badcode\n",
    "# Useless comment - a better comment would be the rationale behind using a minimum of 30 free throw attempts\n",
    "\n",
    "# @badcode\n",
    "# DRY violation - 30 & 5\n",
    "\n",
    "# A look at the top 5 players by free throw percentage with\n",
    "# a minimum of 30 free throw attempts.\n",
    "ft_df[ft_df['FTA']>30].sort_values('FT%', ascending=False)[:5]"
   ]
  },
  {
   "cell_type": "code",
   "execution_count": null,
   "metadata": {
    "colab": {
     "base_uri": "https://localhost:8080/",
     "height": 206
    },
    "id": "MXkg3xNdfe33",
    "outputId": "01dd1f16-c63d-44ad-cda8-3c42d4bdab95"
   },
   "outputs": [],
   "source": [
    "ft_df.sort_values('points_forgone', ascending=False)[:5]"
   ]
  },
  {
   "cell_type": "code",
   "execution_count": null,
   "metadata": {
    "colab": {
     "base_uri": "https://localhost:8080/"
    },
    "id": "OrRyH3XveVML",
    "outputId": "73cbc605-42ef-4626-96ba-ccff880c5d7c"
   },
   "outputs": [],
   "source": [
    "ft_df[ft_df['FTA'] > 30]['FT%'].mean()"
   ]
  },
  {
   "cell_type": "code",
   "execution_count": null,
   "metadata": {},
   "outputs": [],
   "source": [
    "# @refactored\n",
    "nf.sort_top_players_by_stat(ft_df[ft_df['FTA']>30], 'FT%', top_n)"
   ]
  },
  {
   "cell_type": "code",
   "execution_count": null,
   "metadata": {},
   "outputs": [],
   "source": [
    "# @refactored\n",
    "nf.sort_top_players_by_stat(ft_df, 'points_forgone', top_n)"
   ]
  },
  {
   "cell_type": "code",
   "execution_count": null,
   "metadata": {},
   "outputs": [],
   "source": [
    "# @badcode\n",
    "# Magic number - it's bad practice to refer to columns by their integer location (i.e. 0 & 28).\n",
    "# What happens if the order of your columns changed, or if the columns were added or removed?\n",
    "# You would then have to change your code.\n",
    "\n",
    "# @badcode\n",
    "# DRY violation - sort_values is called twice.  It's expensive and unnecessary.\n",
    "\n",
    "# Finding the player on each team with the most points scored\n",
    "for i in nba['Tm'].unique():\n",
    "  print('*****')\n",
    "  print('Team:', i)\n",
    "  print(nba[nba['Tm']==i].sort_values(by='PTS', ascending=False).iloc[0][0], ':',\n",
    "        nba[nba['Tm']==i].sort_values(by='PTS', ascending=False).iloc[0][28],\n",
    "        'pts')\n",
    "print('*****')"
   ]
  },
  {
   "cell_type": "code",
   "execution_count": null,
   "metadata": {
    "id": "fV-UuZmif4CG"
   },
   "outputs": [],
   "source": [
    "# @badcode\n",
    "# DRY violation - this code is very similar as the code above\n",
    "\n",
    "# @badcode\n",
    "# vague variable name - top_player_list\n",
    "# There are many ways to define who is the best (for ex. the best rebounder may not be the best scorer)\n",
    "# Better variable name - top_scorer_list since we are looking at points\n",
    "\n",
    "top_player_list = []\n",
    "for i in nba['Tm'].unique():\n",
    "  top_player_list.append(nba[nba['Tm']==i].sort_values(by='PTS', ascending=False).iloc[0][0])"
   ]
  },
  {
   "cell_type": "code",
   "execution_count": null,
   "metadata": {
    "colab": {
     "base_uri": "https://localhost:8080/",
     "height": 1000
    },
    "id": "RDkbxD-vgQLJ",
    "outputId": "3a560865-47e3-4f6a-db3a-fe932bb2a8a6"
   },
   "outputs": [],
   "source": [
    "# @badcode\n",
    "# The comment and code logic is wrong - notice that there are multiple players from the same team\n",
    "# ex. TOT, BRK, etc.  However, we only want to grab the top points scorer from each team.\n",
    "# Therefore, each team should only have 1 entry.\n",
    "\n",
    "# This query returns a dataframe of the top player for each team (PTS)\n",
    "top_player_df = nba.query(\"Player == @top_player_list\")\n",
    "top_player_df"
   ]
  },
  {
   "cell_type": "code",
   "execution_count": null,
   "metadata": {},
   "outputs": [],
   "source": [
    "# @refactored\n",
    "top_scorers = nba.sort_values('PTS', ascending=False)\n",
    "best_scorers_by_team = top_scorers.groupby('Tm').head(1)\n",
    "for Team, player_name, pts in best_scorers_by_team[['Tm', 'Player', 'PTS']].to_records(index=False):\n",
    "    print(f'*****\\n{Team=}\\n{player_name}: {pts=}')"
   ]
  },
  {
   "cell_type": "code",
   "execution_count": null,
   "metadata": {},
   "outputs": [],
   "source": [
    "best_scorers_by_team"
   ]
  },
  {
   "cell_type": "code",
   "execution_count": null,
   "metadata": {},
   "outputs": [],
   "source": [
    "# Original code dataframe\n",
    "top_player_df['Tm'].duplicated().sum()"
   ]
  },
  {
   "cell_type": "code",
   "execution_count": null,
   "metadata": {},
   "outputs": [],
   "source": [
    "# Refactored code dataframe\n",
    "best_scorers_by_team['Tm'].duplicated().sum()"
   ]
  },
  {
   "cell_type": "markdown",
   "metadata": {
    "id": "q6CJjyxlvNQx"
   },
   "source": [
    "# Data Visualization"
   ]
  },
  {
   "cell_type": "code",
   "execution_count": null,
   "metadata": {
    "colab": {
     "base_uri": "https://localhost:8080/",
     "height": 313
    },
    "id": "jdiD0_5Og-l6",
    "outputId": "d5f48fb5-1c6b-4e96-fad0-3dd1830b4d02"
   },
   "outputs": [],
   "source": [
    "# @badcode\n",
    "# Magic number - 50\n",
    "# What's the significance of 50?  Why not 49, 48?\n",
    "\n",
    "# @badcode\n",
    "# DRY violation - 50 repeated multiple times\n",
    "\n",
    "plt.hist(nba[nba['3PA']>50]['3P%'], facecolor='orange', edgecolor='brown', bins=20)\n",
    "plt.title('NBA 3 Point Percentage for Players with over 50 Three Point Attempts')\n",
    "plt.xlabel('3P%')\n",
    "plt.ylabel('Frequency')\n",
    "plt.show()\n",
    "print(f'Average 3P%: ', {nba[nba['3PA']>50]['3P%'].mean()*100})"
   ]
  },
  {
   "cell_type": "markdown",
   "metadata": {
    "id": "4XH3D_bVMvvP"
   },
   "source": [
    "# Machine Learning"
   ]
  },
  {
   "cell_type": "markdown",
   "metadata": {
    "id": "r-IXC1AbNVue"
   },
   "source": [
    "In this section, I will build a machine learning classification model to try to predict which position a player plays based on their player statistics. I begin by dropping unncessary columns to reduce noise from the data. For example, age should not have any effect on which position a player plays. Additionally, I will remove shot percentages in favor or shot attempts and shots made (For example, I will drop 3P% and keep 3P and 3PA).  I will also drop Offensive Rebounds (ORB) and Defensive Rebounds (DRB) and keep Total Rebounds (TRB)"
   ]
  },
  {
   "cell_type": "code",
   "execution_count": null,
   "metadata": {
    "id": "hNzV06NUW6WR"
   },
   "outputs": [],
   "source": [
    "# @badcode\n",
    "# Mid-code violation\n",
    "# Imports should be at the top\n",
    "\n",
    "from sklearn.model_selection import train_test_split\n",
    "from sklearn.tree import DecisionTreeClassifier\n",
    "from sklearn.neighbors import KNeighborsClassifier\n",
    "from sklearn.ensemble import RandomForestClassifier\n",
    "from sklearn.naive_bayes import GaussianNB\n",
    "\n",
    "from sklearn.metrics import accuracy_score, precision_score\n",
    "from sklearn.metrics import confusion_matrix, ConfusionMatrixDisplay"
   ]
  },
  {
   "cell_type": "code",
   "execution_count": null,
   "metadata": {
    "id": "nJCgTiE3JUKc"
   },
   "outputs": [],
   "source": [
    "# @badcode\n",
    "# This should be in the Feature Engineering section\n",
    "\n",
    "nba['BLKpg']=nba['BLK']/nba['G']\n",
    "nba['PFpg']=nba['PF']/nba['G']\n",
    "nba['TOVpg']=nba['TOV']/nba['G']"
   ]
  },
  {
   "cell_type": "code",
   "execution_count": null,
   "metadata": {
    "id": "zqkZeT6B9oo_"
   },
   "outputs": [],
   "source": [
    "ml_df = nba[['PPG', 'TRBpg', 'ASTpg', 'BLKpg', 'TOVpg', 'PFpg',\n",
    "             'total_height_in', 'weight_lbs', 'Pos']]"
   ]
  },
  {
   "cell_type": "code",
   "execution_count": null,
   "metadata": {},
   "outputs": [],
   "source": [
    "# Use these features for refactoring demo because we don't have access to 'total_height_in', 'weight_lbs'\n",
    "ml_df = nba[['PPG', 'TRBpg', 'ASTpg', 'BLKpg', 'TOVpg', 'PFpg', 'Pos']]"
   ]
  },
  {
   "cell_type": "code",
   "execution_count": null,
   "metadata": {
    "id": "1nkKG3whQ_fU"
   },
   "outputs": [],
   "source": [
    "X = ml_df.iloc[:, :-1]\n",
    "y = ml_df.iloc[:, -1:]"
   ]
  },
  {
   "cell_type": "code",
   "execution_count": null,
   "metadata": {},
   "outputs": [],
   "source": [
    "# @badcode\n",
    "# This should have a seed via the random_state argument to ensure repeatability\n",
    "\n",
    "X_train, X_test, y_train, y_test = train_test_split(\n",
    "     X, y, test_size=0.30)"
   ]
  },
  {
   "cell_type": "code",
   "execution_count": null,
   "metadata": {
    "colab": {
     "base_uri": "https://localhost:8080/",
     "height": 297
    },
    "id": "3HiqkX7pc9Uv",
    "outputId": "e7e24adb-f5a4-4118-f521-af32a89e8b0e"
   },
   "outputs": [],
   "source": [
    "# @badcode\n",
    "# DRY violation\n",
    "\n",
    "# @badcode\n",
    "# Not good practice to re-use variables\n",
    "\n",
    "dtc = DecisionTreeClassifier()\n",
    "dtc.fit(X_train, y_train)\n",
    "\n",
    "predictions = dtc.predict(X_test)\n",
    "cm = confusion_matrix(y_test, predictions, labels=dtc.classes_)\n",
    "disp = ConfusionMatrixDisplay(confusion_matrix=cm,\n",
    "                               display_labels=dtc.classes_)\n",
    "acc = acc = accuracy_score(y_test, predictions)\n",
    "disp.plot()\n",
    "plt.show()\n",
    "print('Decision Tree Classifier Accuracy Score: ', acc)"
   ]
  },
  {
   "cell_type": "code",
   "execution_count": null,
   "metadata": {
    "colab": {
     "base_uri": "https://localhost:8080/",
     "height": 353
    },
    "id": "hbjH6JWFcngK",
    "outputId": "aedf5151-ec34-499c-8926-318dcfa26f1f"
   },
   "outputs": [],
   "source": [
    "knc = KNeighborsClassifier(n_neighbors=2)\n",
    "knc.fit(X_train, y_train)\n",
    "\n",
    "predictions = knc.predict(X_test)\n",
    "cm = confusion_matrix(y_test, predictions, labels=knc.classes_)\n",
    "disp = ConfusionMatrixDisplay(confusion_matrix=cm,\n",
    "                               display_labels=knc.classes_)\n",
    "disp.plot()\n",
    "\n",
    "plt.show()\n",
    "acc = acc = accuracy_score(y_test, predictions)\n",
    "print('K Nearest Neighbor Classifier Accuracy Score: ', acc)"
   ]
  },
  {
   "cell_type": "code",
   "execution_count": null,
   "metadata": {
    "colab": {
     "base_uri": "https://localhost:8080/",
     "height": 353
    },
    "id": "TpqEfX5fZ3g5",
    "outputId": "8d81cc43-68fe-4c9f-a267-6cf632b24ba8"
   },
   "outputs": [],
   "source": [
    "rfc = RandomForestClassifier()\n",
    "rfc.fit(X_train, y_train)\n",
    "\n",
    "predictions = rfc.predict(X_test)\n",
    "cm = confusion_matrix(y_test, predictions, labels=rfc.classes_)\n",
    "disp = ConfusionMatrixDisplay(confusion_matrix=cm,\n",
    "                               display_labels=rfc.classes_)\n",
    "disp.plot()\n",
    "\n",
    "plt.show()\n",
    "acc = acc = accuracy_score(y_test, predictions)\n",
    "print('Random Forest Accuracy Score: ', acc)"
   ]
  },
  {
   "cell_type": "code",
   "execution_count": null,
   "metadata": {
    "colab": {
     "base_uri": "https://localhost:8080/",
     "height": 357
    },
    "id": "7gmQ-DqkStnD",
    "outputId": "23915de2-743a-4c60-b931-b3c82672deb6"
   },
   "outputs": [],
   "source": [
    "gnb = GaussianNB()\n",
    "gnb.fit(X_train, y_train)\n",
    "\n",
    "predictions = gnb.predict(X_test)\n",
    "cm = confusion_matrix(y_test, predictions, labels=gnb.classes_)\n",
    "disp = ConfusionMatrixDisplay(confusion_matrix=cm,\n",
    "                               display_labels=gnb.classes_)\n",
    "disp.plot()\n",
    "plt.show()\n",
    "acc = acc = accuracy_score(y_test, predictions)\n",
    "print('Gaussian Naive Bayes Accuracy Score: ', acc)"
   ]
  },
  {
   "cell_type": "code",
   "execution_count": null,
   "metadata": {},
   "outputs": [],
   "source": [
    "for fitted_model in (dtc, knc, rfc, gnb):\n",
    "    nf.display_confusion_matrix(fitted_model, X_test, y_test)"
   ]
  },
  {
   "cell_type": "code",
   "execution_count": null,
   "metadata": {
    "colab": {
     "base_uri": "https://localhost:8080/",
     "height": 300
    },
    "id": "XZsmMClaMrCR",
    "outputId": "fe6361c5-b869-48e8-bc17-302461d3affb"
   },
   "outputs": [],
   "source": [
    "ml_df.corr()"
   ]
  },
  {
   "cell_type": "code",
   "execution_count": null,
   "metadata": {
    "colab": {
     "base_uri": "https://localhost:8080/",
     "height": 353
    },
    "id": "GlWYIU0dY9FO",
    "outputId": "d93f9720-e869-49f9-f87e-62f512106c19"
   },
   "outputs": [],
   "source": [
    "sns.boxplot(nba['Pos'], nba['total_height_in'])"
   ]
  },
  {
   "cell_type": "code",
   "execution_count": null,
   "metadata": {
    "colab": {
     "base_uri": "https://localhost:8080/",
     "height": 585
    },
    "id": "lT0fYxhiaT50",
    "outputId": "ead2d908-7d9d-4e3f-9795-5a36000da391"
   },
   "outputs": [],
   "source": [
    "plt.figure(figsize=(12,8))\n",
    "\n",
    "plt.subplot(2, 2, 1)\n",
    "fig = sns.boxplot(data=nba, x='Pos', y='weight_lbs')\n",
    "fig.set_title('Weight (lbs.)')\n",
    "\n",
    "\n",
    "plt.subplot(2, 2, 2)\n",
    "fig = sns.boxplot(data=nba, x='Pos', y='total_height_in')\n",
    "fig.set_title('Height (in.)')\n",
    "\n",
    "plt.subplot(2, 2, 3)\n",
    "fig = sns.boxplot(data=nba, x='Pos', y='TRBpg')\n",
    "fig.set_title('Rebounds per game')\n",
    "\n",
    "plt.subplot(2, 2, 4)\n",
    "fig = sns.boxplot(data=nba, x='Pos', y='BLKpg')\n",
    "fig.set_title('Blocks per game')\n",
    "\n",
    "plt.tight_layout()"
   ]
  },
  {
   "cell_type": "code",
   "execution_count": null,
   "metadata": {
    "id": "n5LJz85OayV_"
   },
   "outputs": [],
   "source": []
  }
 ],
 "metadata": {
  "colab": {
   "collapsed_sections": [
    "SwdC5QdCs4KD",
    "kSRz55w5Af_q",
    "OxFU5JLjAqFe",
    "FCgCjpmbAyNJ"
   ],
   "provenance": []
  },
  "kernelspec": {
   "display_name": "Python 3",
   "language": "python",
   "name": "python3"
  },
  "language_info": {
   "codemirror_mode": {
    "name": "ipython",
    "version": 3
   },
   "file_extension": ".py",
   "mimetype": "text/x-python",
   "name": "python",
   "nbconvert_exporter": "python",
   "pygments_lexer": "ipython3",
   "version": "3.8.8"
  }
 },
 "nbformat": 4,
 "nbformat_minor": 4
}
